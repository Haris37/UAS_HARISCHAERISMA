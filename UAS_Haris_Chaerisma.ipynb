{
  "nbformat": 4,
  "nbformat_minor": 0,
  "metadata": {
    "colab": {
      "name": "UAS_Haris Chaerisma.ipynb",
      "provenance": []
    },
    "kernelspec": {
      "name": "python3",
      "display_name": "Python 3"
    }
  },
  "cells": [
    {
      "cell_type": "code",
      "metadata": {
        "id": "uDXG46ByW-Ol"
      },
      "source": [
        "\r\n",
        "import numpy as np\r\n",
        "\r\n",
        "def forwardPass(inputs, weight, bias, activation = 'linear'):\r\n",
        "\tw_sum = np.dot(inputs, weight) + bias\r\n",
        "\r\n",
        "\tif activation is 'relu' :\r\n",
        "\t\t# ReLU Activation f(x) = max(0, x)\r\n",
        "\t\tact = np.maximum(w_sum, 0)\r\n",
        "\telse :\r\n",
        "\t\t# Linear Activation f(x) = x\r\n",
        "\t\tact = w_sum\r\n",
        "\r\n",
        "\treturn act"
      ],
      "execution_count": 7,
      "outputs": []
    },
    {
      "cell_type": "code",
      "metadata": {
        "id": "yhNxodq-XGAc"
      },
      "source": [
        ""
      ],
      "execution_count": 7,
      "outputs": []
    },
    {
      "cell_type": "code",
      "metadata": {
        "id": "1wwoCGJdXa59"
      },
      "source": [
        "# Pre-Trained Weights & Biases after Training\r\n",
        "W_H = np.array([[0.00192761, -0.78845304, 0.30310717, 0.44131625, 0.32792646, -0.02451803, 1.43445349, -1.12972116]])\r\n",
        "b_H = np.array([-0.02657719, -1.15885878, -0.79183501, -0.33550513, -0.23438406, -0.25078532, 0.22305705, 0.80253315])\r\n",
        "\r\n",
        "W_o = np.array([[-0.77540326], [ 0.5030424 ], [ 0.37374797], [-0.20287184], [-0.35956827], [-0.54576212], [ 1.04326093], [ 0.8857621 ]])\r\n",
        "b_o = np.array([ 0.04351173])"
      ],
      "execution_count": 8,
      "outputs": []
    },
    {
      "cell_type": "code",
      "metadata": {
        "colab": {
          "base_uri": "https://localhost:8080/"
        },
        "id": "kHjSoscAYAxC",
        "outputId": "42f78886-1fdb-47b2-a413-0e27e4a2bbfb"
      },
      "source": [
        "# Initialize Input Data\r\n",
        "inputs = np.array([[-2], [0], [2]])\r\n",
        "\r\n",
        "#Output of Hidden Layer\r\n",
        "h_out = forwardPass(inputs, W_H, b_H, 'relu')\r\n",
        "\r\n",
        "print('Hidden Layer Output (ReLU)')\r\n",
        "print('================================')\r\n",
        "print(h_out, \"\\n\")\r\n",
        "\r\n",
        "# Output of Output Layer\r\n",
        "o_out = forwardPass(h_out, W_o, b_o, 'linear')\r\n",
        "\r\n",
        "print('Output Layer Output (Linear)')\r\n",
        "print('================================')\r\n",
        "print(o_out, \"\\n\")"
      ],
      "execution_count": 9,
      "outputs": [
        {
          "output_type": "stream",
          "text": [
            "Hidden Layer Output (ReLU)\n",
            "================================\n",
            "[[0.         0.4180473  0.         0.         0.         0.\n",
            "  0.         3.06197547]\n",
            " [0.         0.         0.         0.         0.         0.\n",
            "  0.22305705 0.80253315]\n",
            " [0.         0.         0.         0.54712737 0.42146886 0.\n",
            "  3.09196403 0.        ]] \n",
            "\n",
            "Output Layer Output (Linear)\n",
            "================================\n",
            "[[2.96598907]\n",
            " [0.98707188]\n",
            " [3.00669343]] \n",
            "\n"
          ],
          "name": "stdout"
        }
      ]
    },
    {
      "cell_type": "code",
      "metadata": {
        "colab": {
          "base_uri": "https://localhost:8080/",
          "height": 35
        },
        "id": "ljEhwzZUYjSN",
        "outputId": "7abf5e66-60bf-4b1d-96ad-b20360e5ec74"
      },
      "source": [
        "\"\"\"[[ 2.96598907]\r\n",
        " [ 0.98707188]\r\n",
        " [ 3.00669343]]\"\"\""
      ],
      "execution_count": 10,
      "outputs": [
        {
          "output_type": "execute_result",
          "data": {
            "application/vnd.google.colaboratory.intrinsic+json": {
              "type": "string"
            },
            "text/plain": [
              "'[[ 2.96598907]\\n [ 0.98707188]\\n [ 3.00669343]]'"
            ]
          },
          "metadata": {
            "tags": []
          },
          "execution_count": 10
        }
      ]
    }
  ]
}